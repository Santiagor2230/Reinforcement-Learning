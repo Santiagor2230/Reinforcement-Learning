{
 "cells": [
  {
   "cell_type": "markdown",
   "metadata": {},
   "source": [
    "# Treasure Hunt Game Notebook\n",
    "\n",
    "## Read and Review Your Starter Code\n",
    "The theme of this project is a popular treasure hunt game in which the player needs to find the treasure before the pirate does. While you will not be developing the entire game, you will write the part of the game that represents the intelligent agent, which is a pirate in this case. The pirate will try to find the optimal path to the treasure using deep Q-learning. \n",
    "\n",
    "You have been provided with two Python classes and this notebook to help you with this assignment. The first class, TreasureMaze.py, represents the environment, which includes a maze object defined as a matrix. The second class, GameExperience.py, stores the episodes – that is, all the states that come in between the initial state and the terminal state. This is later used by the agent for learning by experience, called \"exploration\". This notebook shows how to play a game. Your task is to complete the deep Q-learning implementation for which a skeleton implementation has been provided. The code blocs you will need to complete has #TODO as a header.\n",
    "\n",
    "First, read and review the next few code and instruction blocks to understand the code that you have been given."
   ]
  },
  {
   "cell_type": "code",
   "execution_count": 1,
   "metadata": {},
   "outputs": [
    {
     "name": "stderr",
     "output_type": "stream",
     "text": [
      "Using TensorFlow backend.\n"
     ]
    }
   ],
   "source": [
    "from __future__ import print_function\n",
    "import os, sys, time, datetime, json, random\n",
    "import numpy as np\n",
    "from keras.models import Sequential\n",
    "from keras.layers.core import Dense, Activation\n",
    "from keras.optimizers import SGD , Adam, RMSprop\n",
    "from keras.layers.advanced_activations import PReLU\n",
    "import matplotlib.pyplot as plt\n",
    "from TreasureMaze import TreasureMaze\n",
    "from GameExperience import GameExperience\n",
    "%matplotlib inline"
   ]
  },
  {
   "cell_type": "markdown",
   "metadata": {},
   "source": [
    "The following code block contains an 8x8 matrix that will be used as a maze object:"
   ]
  },
  {
   "cell_type": "code",
   "execution_count": 2,
   "metadata": {},
   "outputs": [],
   "source": [
    "maze = np.array([\n",
    "    [ 1.,  0.,  1.,  1.,  1.,  1.,  1.,  1.],\n",
    "    [ 1.,  0.,  1.,  1.,  1.,  0.,  1.,  1.],\n",
    "    [ 1.,  1.,  1.,  1.,  0.,  1.,  0.,  1.],\n",
    "    [ 1.,  1.,  1.,  0.,  1.,  1.,  1.,  1.],\n",
    "    [ 1.,  1.,  0.,  1.,  1.,  1.,  1.,  1.],\n",
    "    [ 1.,  1.,  1.,  0.,  1.,  0.,  0.,  0.],\n",
    "    [ 1.,  1.,  1.,  0.,  1.,  1.,  1.,  1.],\n",
    "    [ 1.,  1.,  1.,  1.,  0.,  1.,  1.,  1.]\n",
    "])"
   ]
  },
  {
   "cell_type": "markdown",
   "metadata": {},
   "source": [
    "This helper function allows a visual representation of the maze object:"
   ]
  },
  {
   "cell_type": "code",
   "execution_count": 3,
   "metadata": {},
   "outputs": [],
   "source": [
    "def show(qmaze):\n",
    "    plt.grid('on')\n",
    "    nrows, ncols = qmaze.maze.shape\n",
    "    ax = plt.gca()\n",
    "    ax.set_xticks(np.arange(0.5, nrows, 1))\n",
    "    ax.set_yticks(np.arange(0.5, ncols, 1))\n",
    "    ax.set_xticklabels([])\n",
    "    ax.set_yticklabels([])\n",
    "    canvas = np.copy(qmaze.maze)\n",
    "    for row,col in qmaze.visited:\n",
    "        canvas[row,col] = 0.6\n",
    "    pirate_row, pirate_col, _ = qmaze.state\n",
    "    canvas[pirate_row, pirate_col] = 0.3   # pirate cell\n",
    "    canvas[nrows-1, ncols-1] = 0.9 # treasure cell\n",
    "    img = plt.imshow(canvas, interpolation='none', cmap='gray')\n",
    "    return img"
   ]
  },
  {
   "cell_type": "markdown",
   "metadata": {},
   "source": [
    "The pirate agent can move in four directions: left, right, up, and down. \n",
    "\n",
    "While the agent primarily learns by experience through exploitation, often, the agent can choose to explore the environment to find previously undiscovered paths. This is called \"exploration\" and is defined by epsilon. This value is typically a lower value such as 0.1, which means for every ten attempts, the agent will attempt to learn by experience nine times and will randomly explore a new path one time. You are encouraged to try various values for the exploration factor and see how the algorithm performs."
   ]
  },
  {
   "cell_type": "code",
   "execution_count": 4,
   "metadata": {},
   "outputs": [],
   "source": [
    "LEFT = 0\n",
    "UP = 1\n",
    "RIGHT = 2\n",
    "DOWN = 3\n",
    "\n",
    "\n",
    "# Exploration factor\n",
    "epsilon = 0.1\n",
    "\n",
    "# Actions dictionary\n",
    "actions_dict = {\n",
    "    LEFT: 'left',\n",
    "    UP: 'up',\n",
    "    RIGHT: 'right',\n",
    "    DOWN: 'down',\n",
    "}\n",
    "\n",
    "num_actions = len(actions_dict)\n"
   ]
  },
  {
   "cell_type": "markdown",
   "metadata": {},
   "source": [
    "The sample code block and output below show creating a maze object and performing one action (DOWN), which returns the reward. The resulting updated environment is visualized."
   ]
  },
  {
   "cell_type": "code",
   "execution_count": 5,
   "metadata": {},
   "outputs": [
    {
     "name": "stdout",
     "output_type": "stream",
     "text": [
      "reward= -0.04\n"
     ]
    },
    {
     "data": {
      "text/plain": [
       "<matplotlib.image.AxesImage at 0x22bbb803fc8>"
      ]
     },
     "execution_count": 5,
     "metadata": {},
     "output_type": "execute_result"
    },
    {
     "data": {
      "image/png": "[encoded data removed]",
      "text/plain": [
       "<Figure size 432x288 with 1 Axes>"
      ]
     },
     "metadata": {
      "needs_background": "light"
     },
     "output_type": "display_data"
    }
   ],
   "source": [
    "qmaze = TreasureMaze(maze)\n",
    "canvas, reward, game_over = qmaze.act(DOWN)\n",
    "print(\"reward=\", reward)\n",
    "show(qmaze)"
   ]
  },
  {
   "cell_type": "markdown",
   "metadata": {},
   "source": [
    "This function simulates a full game based on the provided trained model. The other parameters include the TreasureMaze object and the starting position of the pirate."
   ]
  },
  {
   "cell_type": "code",
   "execution_count": 6,
   "metadata": {},
   "outputs": [],
   "source": [
    "def play_game(model, qmaze, pirate_cell):\n",
    "    qmaze.reset(pirate_cell)\n",
    "    envstate = qmaze.observe()\n",
    "    while True:\n",
    "        prev_envstate = envstate\n",
    "        # get next action\n",
    "        q = model.predict(prev_envstate)\n",
    "        action = np.argmax(q[0])\n",
    "\n",
    "        # apply action, get rewards and new state\n",
    "        envstate, reward, game_status = qmaze.act(action)\n",
    "        if game_status == 'win':\n",
    "            return True\n",
    "        elif game_status == 'lose':\n",
    "            return False"
   ]
  },
  {
   "cell_type": "markdown",
   "metadata": {},
   "source": [
    "This function helps you to determine whether the pirate can win any game at all. If your maze is not well designed, the pirate may not win any game at all. In this case, your training would not yield any result. The provided maze in this notebook ensures that there is a path to win and you can run this method to check."
   ]
  },
  {
   "cell_type": "code",
   "execution_count": 7,
   "metadata": {},
   "outputs": [],
   "source": [
    "def completion_check(model, qmaze):\n",
    "    for cell in qmaze.free_cells:\n",
    "        if not qmaze.valid_actions(cell):\n",
    "            return False\n",
    "        if not play_game(model, qmaze, cell):\n",
    "            return False\n",
    "    return True"
   ]
  },
  {
   "cell_type": "markdown",
   "metadata": {},
   "source": [
    "The code you have been given in this block will build the neural network model. Review the code and note the number of layers, as well as the activation, optimizer, and loss functions that are used to train the model."
   ]
  },
  {
   "cell_type": "code",
   "execution_count": 8,
   "metadata": {},
   "outputs": [],
   "source": [
    "def build_model(maze):\n",
    "    model = Sequential()\n",
    "    model.add(Dense(maze.size, input_shape=(maze.size,)))\n",
    "    model.add(PReLU())\n",
    "    model.add(Dense(maze.size))\n",
    "    model.add(PReLU())\n",
    "    model.add(Dense(num_actions))\n",
    "    model.compile(optimizer='adam', loss='mse')\n",
    "    return model"
   ]
  },
  {
   "cell_type": "markdown",
   "metadata": {},
   "source": [
    "# #TODO: Complete the Q-Training Algorithm Code Block\n",
    "\n",
    "This is your deep Q-learning implementation. The goal of your deep Q-learning implementation is to find the best possible navigation sequence that results in reaching the treasure cell while maximizing the reward. In your implementation, you need to determine the optimal number of epochs to achieve a 100% win rate.\n",
    "\n",
    "You will need to complete the section starting with #pseudocode. The pseudocode has been included for you."
   ]
  },
  {
   "cell_type": "code",
   "execution_count": 9,
   "metadata": {},
   "outputs": [],
   "source": [
    "def qtrain(model, maze, n_epoch = 15000, max_memory = 1000, data_size = 50):\n",
    "\n",
    "    # exploration factor\n",
    "    global epsilon \n",
    "\n",
    "\n",
    "    # start time\n",
    "    start_time = datetime.datetime.now()\n",
    "\n",
    "    # Construct environment/game from numpy array: maze (see above)\n",
    "    qmaze = TreasureMaze(maze)\n",
    "\n",
    "    # Initialize experience replay object\n",
    "    experience = GameExperience(model, max_memory=max_memory)\n",
    "    \n",
    "    win_history = 0   # history of win/lose game\n",
    "    hsize = qmaze.maze.size//2   # history window size\n",
    "    win_rate = 0.0\n",
    "    \n",
    "    #iterate over the epochs\n",
    "    for epoch in range(1,n_epoch):\n",
    "        \n",
    "        #randome agent position\n",
    "        agent_cell = random.choice(qmaze.free_cells)\n",
    "        \n",
    "        \n",
    "        #agent reset position to random cordinance\n",
    "        qmaze.reset(agent_cell)\n",
    "        \n",
    "        #new state\n",
    "        envstate = qmaze.observe()\n",
    "        game_status = \"not_over\"\n",
    "        \n",
    "        #number of episodes\n",
    "        n_episodes = 0\n",
    "        \n",
    "        #while the game is not over\n",
    "        while game_status == \"not_over\":\n",
    "            \n",
    "            #previous state\n",
    "            previous_envstate = envstate\n",
    "            \n",
    "            \n",
    "            #random actions\n",
    "            if np.random.rand() < epsilon:\n",
    "                #validating actions\n",
    "                valid_action = qmaze.valid_actions()\n",
    "                action = random.choice(valid_action)\n",
    "            \n",
    "            else:\n",
    "                action = np.argmax(experience.predict(previous_envstate))\n",
    "            \n",
    "            #new episode\n",
    "            envstate, reward, game_status = qmaze.act(action)\n",
    "            n_episodes += 1\n",
    "            \n",
    "            #if agent wins we increase wins and change the win rate\n",
    "            if game_status == \"win\":\n",
    "                win_history += 1\n",
    "                win_rate = win_history/epoch\n",
    "                break\n",
    "                \n",
    "            #if agent looses we change the win rate\n",
    "            elif game_status == \"lose\":\n",
    "                win_rate = win_history/epoch\n",
    "                break\n",
    "            \n",
    "            \n",
    "            #the episode checkpoint\n",
    "            episodes = [previous_envstate, action, reward, envstate, game_status]\n",
    "            experience.remember(episodes)\n",
    "            \n",
    "            #we fit the data\n",
    "            inputs, targets = experience.get_data()\n",
    "            model.fit(inputs, targets,epochs=8, batch_size=24, verbose=0)\n",
    "             \n",
    "            #models loss\n",
    "            loss = model.evaluate(inputs, targets,verbose=0)\n",
    "                \n",
    "            #if win_rate is higher than 0.9 and completion check that will be the epoch\n",
    "            if win_rate > 0.9:\n",
    "                if completion_check(model, qmaze) == True:\n",
    "                    print(\"Completion Check epoch :\", epoch)\n",
    "                \n",
    "\n",
    "    #Print the epoch, loss, episodes, win count, and win rate for each epoch\n",
    "        dt = datetime.datetime.now() - start_time\n",
    "        t = format_time(dt.total_seconds())\n",
    "        template = \"Epoch: {:03d}/{:d} | Loss: {:.4f} | Episodes: {:d} | Win count: {:d} | Win rate: {:.3f} | time: {}\"\n",
    "        print(template.format(epoch, n_epoch-1, loss, n_episodes, win_history, win_rate, t))\n",
    "        # We simply check if training has exhausted all free cells and if in all\n",
    "        # cases the agent won.\n",
    "        if win_rate > 0.9 : epsilon = 0.05\n",
    "        if win_history >= hsize and completion_check(model, qmaze):\n",
    "            #print(\"Reached 100%% win rate at epoch: %d\" % (epoch,))\n",
    "            break\n",
    "            \n",
    "            \n",
    "\n",
    "    \n",
    "    \n",
    "    # Determine the total time for training\n",
    "    dt = datetime.datetime.now() - start_time\n",
    "    seconds = dt.total_seconds()\n",
    "    t = format_time(seconds)\n",
    "\n",
    "    print(\"n_epoch: %d, max_mem: %d, data: %d, time: %s\" % (epoch, max_memory, data_size, t))\n",
    "    return seconds\n",
    "\n",
    "# This is a small utility for printing readable time strings:\n",
    "def format_time(seconds):\n",
    "    if seconds < 400:\n",
    "        s = float(seconds)\n",
    "        return \"%.1f seconds\" % (s,)\n",
    "    elif seconds < 4000:\n",
    "        m = seconds / 60.0\n",
    "        return \"%.2f minutes\" % (m,)\n",
    "    else:\n",
    "        h = seconds / 3600.0\n",
    "        return \"%.2f hours\" % (h,)"
   ]
  },
  {
   "cell_type": "markdown",
   "metadata": {},
   "source": [
    "## Test Your Model\n",
    "\n",
    "Now we will start testing the deep Q-learning implementation. To begin, select **Cell**, then **Run All** from the menu bar. This will run your notebook. As it runs, you should see output begin to appear beneath the next few cells. The code below creates an instance of TreasureMaze."
   ]
  },
  {
   "cell_type": "code",
   "execution_count": 10,
   "metadata": {},
   "outputs": [
    {
     "data": {
      "text/plain": [
       "<matplotlib.image.AxesImage at 0x22bbb88da88>"
      ]
     },
     "execution_count": 10,
     "metadata": {},
     "output_type": "execute_result"
    },
    {
     "data": {
      "image/png": "[encoded data removed]",
      "text/plain": [
       "<Figure size 432x288 with 1 Axes>"
      ]
     },
     "metadata": {
      "needs_background": "light"
     },
     "output_type": "display_data"
    }
   ],
   "source": [
    "qmaze = TreasureMaze(maze)\n",
    "show(qmaze)"
   ]
  },
  {
   "cell_type": "markdown",
   "metadata": {},
   "source": [
    "In the next code block, you will build your model and train it using deep Q-learning. Note: This step takes several minutes to fully run."
   ]
  },
  {
   "cell_type": "code",
   "execution_count": 11,
   "metadata": {},
   "outputs": [
    {
     "name": "stdout",
     "output_type": "stream",
     "text": [
      "Epoch: 001/999 | Loss: 0.0001 | Episodes: 124 | Win count: 1 | Win rate: 1.000 | time: 10.7 seconds\n",
      "Epoch: 002/999 | Loss: 0.0005 | Episodes: 2 | Win count: 1 | Win rate: 0.500 | time: 11.0 seconds\n",
      "Epoch: 003/999 | Loss: 0.0000 | Episodes: 135 | Win count: 1 | Win rate: 0.333 | time: 19.7 seconds\n",
      "Epoch: 004/999 | Loss: 0.0003 | Episodes: 21 | Win count: 2 | Win rate: 0.500 | time: 21.0 seconds\n",
      "Epoch: 005/999 | Loss: 0.0002 | Episodes: 134 | Win count: 2 | Win rate: 0.400 | time: 30.1 seconds\n",
      "Epoch: 006/999 | Loss: 0.0001 | Episodes: 144 | Win count: 2 | Win rate: 0.333 | time: 39.7 seconds\n",
      "Epoch: 007/999 | Loss: 0.0001 | Episodes: 140 | Win count: 2 | Win rate: 0.286 | time: 45.8 seconds\n",
      "Epoch: 008/999 | Loss: 0.0005 | Episodes: 3 | Win count: 3 | Win rate: 0.375 | time: 45.8 seconds\n",
      "Epoch: 009/999 | Loss: 0.0010 | Episodes: 8 | Win count: 4 | Win rate: 0.444 | time: 46.0 seconds\n",
      "Epoch: 010/999 | Loss: 0.0006 | Episodes: 139 | Win count: 4 | Win rate: 0.400 | time: 49.1 seconds\n",
      "Epoch: 011/999 | Loss: 0.0002 | Episodes: 134 | Win count: 4 | Win rate: 0.364 | time: 54.0 seconds\n",
      "Epoch: 012/999 | Loss: 0.0008 | Episodes: 135 | Win count: 4 | Win rate: 0.333 | time: 63.1 seconds\n",
      "Epoch: 013/999 | Loss: 0.0002 | Episodes: 134 | Win count: 4 | Win rate: 0.308 | time: 72.1 seconds\n",
      "Epoch: 014/999 | Loss: 0.0001 | Episodes: 139 | Win count: 4 | Win rate: 0.286 | time: 81.5 seconds\n",
      "Epoch: 015/999 | Loss: 0.0008 | Episodes: 137 | Win count: 4 | Win rate: 0.267 | time: 90.9 seconds\n",
      "Epoch: 016/999 | Loss: 0.0010 | Episodes: 4 | Win count: 5 | Win rate: 0.312 | time: 91.1 seconds\n",
      "Epoch: 017/999 | Loss: 0.0001 | Episodes: 139 | Win count: 5 | Win rate: 0.294 | time: 100.6 seconds\n",
      "Epoch: 018/999 | Loss: 0.0007 | Episodes: 52 | Win count: 6 | Win rate: 0.333 | time: 101.8 seconds\n",
      "Epoch: 019/999 | Loss: 0.0003 | Episodes: 3 | Win count: 7 | Win rate: 0.368 | time: 101.9 seconds\n",
      "Epoch: 020/999 | Loss: 0.0003 | Episodes: 12 | Win count: 8 | Win rate: 0.400 | time: 102.2 seconds\n",
      "Epoch: 021/999 | Loss: 0.0001 | Episodes: 140 | Win count: 8 | Win rate: 0.381 | time: 105.4 seconds\n",
      "Epoch: 022/999 | Loss: 0.0007 | Episodes: 93 | Win count: 9 | Win rate: 0.409 | time: 107.5 seconds\n",
      "Epoch: 023/999 | Loss: 0.0001 | Episodes: 134 | Win count: 9 | Win rate: 0.391 | time: 110.6 seconds\n",
      "Epoch: 024/999 | Loss: 0.0008 | Episodes: 136 | Win count: 9 | Win rate: 0.375 | time: 113.7 seconds\n",
      "Epoch: 025/999 | Loss: 0.0001 | Episodes: 19 | Win count: 10 | Win rate: 0.400 | time: 114.2 seconds\n",
      "Epoch: 026/999 | Loss: 0.0002 | Episodes: 137 | Win count: 10 | Win rate: 0.385 | time: 117.3 seconds\n",
      "Epoch: 027/999 | Loss: 0.0000 | Episodes: 139 | Win count: 10 | Win rate: 0.370 | time: 120.3 seconds\n",
      "Epoch: 028/999 | Loss: 0.0000 | Episodes: 1 | Win count: 11 | Win rate: 0.393 | time: 120.3 seconds\n",
      "Epoch: 029/999 | Loss: 0.0019 | Episodes: 26 | Win count: 12 | Win rate: 0.414 | time: 120.9 seconds\n",
      "Epoch: 030/999 | Loss: 0.0002 | Episodes: 142 | Win count: 12 | Win rate: 0.400 | time: 124.1 seconds\n",
      "Epoch: 031/999 | Loss: 0.0015 | Episodes: 136 | Win count: 12 | Win rate: 0.387 | time: 127.1 seconds\n",
      "Epoch: 032/999 | Loss: 0.0011 | Episodes: 10 | Win count: 13 | Win rate: 0.406 | time: 127.3 seconds\n",
      "Epoch: 033/999 | Loss: 0.0024 | Episodes: 136 | Win count: 13 | Win rate: 0.394 | time: 130.6 seconds\n",
      "Epoch: 034/999 | Loss: 0.0010 | Episodes: 10 | Win count: 14 | Win rate: 0.412 | time: 130.9 seconds\n",
      "Epoch: 035/999 | Loss: 0.0010 | Episodes: 20 | Win count: 15 | Win rate: 0.429 | time: 131.4 seconds\n",
      "Epoch: 036/999 | Loss: 0.0001 | Episodes: 144 | Win count: 15 | Win rate: 0.417 | time: 134.7 seconds\n",
      "Epoch: 037/999 | Loss: 0.0005 | Episodes: 28 | Win count: 16 | Win rate: 0.432 | time: 135.4 seconds\n",
      "Epoch: 038/999 | Loss: 0.0005 | Episodes: 144 | Win count: 16 | Win rate: 0.421 | time: 138.6 seconds\n",
      "Epoch: 039/999 | Loss: 0.0006 | Episodes: 12 | Win count: 17 | Win rate: 0.436 | time: 138.9 seconds\n",
      "Epoch: 040/999 | Loss: 0.0014 | Episodes: 148 | Win count: 17 | Win rate: 0.425 | time: 142.4 seconds\n",
      "Epoch: 041/999 | Loss: 0.0013 | Episodes: 148 | Win count: 17 | Win rate: 0.415 | time: 145.8 seconds\n",
      "Epoch: 042/999 | Loss: 0.0006 | Episodes: 142 | Win count: 17 | Win rate: 0.405 | time: 149.0 seconds\n",
      "Epoch: 043/999 | Loss: 0.0002 | Episodes: 142 | Win count: 17 | Win rate: 0.395 | time: 152.2 seconds\n",
      "Epoch: 044/999 | Loss: 0.0014 | Episodes: 136 | Win count: 17 | Win rate: 0.386 | time: 155.5 seconds\n",
      "Epoch: 045/999 | Loss: 0.0012 | Episodes: 36 | Win count: 18 | Win rate: 0.400 | time: 156.4 seconds\n",
      "Epoch: 046/999 | Loss: 0.0002 | Episodes: 65 | Win count: 19 | Win rate: 0.413 | time: 157.9 seconds\n",
      "Epoch: 047/999 | Loss: 0.0016 | Episodes: 33 | Win count: 20 | Win rate: 0.426 | time: 158.7 seconds\n",
      "Epoch: 048/999 | Loss: 0.0009 | Episodes: 150 | Win count: 20 | Win rate: 0.417 | time: 162.2 seconds\n",
      "Epoch: 049/999 | Loss: 0.0012 | Episodes: 46 | Win count: 21 | Win rate: 0.429 | time: 163.3 seconds\n",
      "Epoch: 050/999 | Loss: 0.0019 | Episodes: 144 | Win count: 21 | Win rate: 0.420 | time: 166.7 seconds\n",
      "Epoch: 051/999 | Loss: 0.0005 | Episodes: 8 | Win count: 22 | Win rate: 0.431 | time: 166.8 seconds\n",
      "Epoch: 052/999 | Loss: 0.0006 | Episodes: 162 | Win count: 23 | Win rate: 0.442 | time: 170.6 seconds\n",
      "Epoch: 053/999 | Loss: 0.0003 | Episodes: 29 | Win count: 24 | Win rate: 0.453 | time: 171.3 seconds\n",
      "Epoch: 054/999 | Loss: 0.0014 | Episodes: 62 | Win count: 25 | Win rate: 0.463 | time: 172.7 seconds\n",
      "Epoch: 055/999 | Loss: 0.0013 | Episodes: 11 | Win count: 26 | Win rate: 0.473 | time: 173.0 seconds\n",
      "Epoch: 056/999 | Loss: 0.0017 | Episodes: 10 | Win count: 27 | Win rate: 0.482 | time: 173.2 seconds\n",
      "Epoch: 057/999 | Loss: 0.0021 | Episodes: 70 | Win count: 28 | Win rate: 0.491 | time: 174.8 seconds\n",
      "Epoch: 058/999 | Loss: 0.0008 | Episodes: 143 | Win count: 28 | Win rate: 0.483 | time: 178.2 seconds\n",
      "Epoch: 059/999 | Loss: 0.0013 | Episodes: 107 | Win count: 29 | Win rate: 0.492 | time: 180.8 seconds\n",
      "Epoch: 060/999 | Loss: 0.0007 | Episodes: 8 | Win count: 30 | Win rate: 0.500 | time: 181.0 seconds\n",
      "Epoch: 061/999 | Loss: 0.0007 | Episodes: 3 | Win count: 31 | Win rate: 0.508 | time: 181.0 seconds\n",
      "Epoch: 062/999 | Loss: 0.0011 | Episodes: 59 | Win count: 32 | Win rate: 0.516 | time: 182.4 seconds\n",
      "Epoch: 063/999 | Loss: 0.0008 | Episodes: 31 | Win count: 33 | Win rate: 0.524 | time: 183.2 seconds\n",
      "Epoch: 064/999 | Loss: 0.0006 | Episodes: 46 | Win count: 34 | Win rate: 0.531 | time: 184.3 seconds\n",
      "Epoch: 065/999 | Loss: 0.0008 | Episodes: 27 | Win count: 35 | Win rate: 0.538 | time: 185.3 seconds\n",
      "Epoch: 066/999 | Loss: 0.0024 | Episodes: 95 | Win count: 36 | Win rate: 0.545 | time: 187.8 seconds\n",
      "Epoch: 067/999 | Loss: 0.0007 | Episodes: 19 | Win count: 37 | Win rate: 0.552 | time: 188.3 seconds\n",
      "Epoch: 068/999 | Loss: 0.0006 | Episodes: 10 | Win count: 38 | Win rate: 0.559 | time: 188.5 seconds\n",
      "Epoch: 069/999 | Loss: 0.0007 | Episodes: 51 | Win count: 39 | Win rate: 0.565 | time: 189.8 seconds\n",
      "Epoch: 070/999 | Loss: 0.0004 | Episodes: 11 | Win count: 40 | Win rate: 0.571 | time: 190.1 seconds\n",
      "Epoch: 071/999 | Loss: 0.0009 | Episodes: 7 | Win count: 41 | Win rate: 0.577 | time: 190.4 seconds\n",
      "Epoch: 072/999 | Loss: 0.0006 | Episodes: 28 | Win count: 42 | Win rate: 0.583 | time: 191.4 seconds\n",
      "Epoch: 073/999 | Loss: 0.0002 | Episodes: 108 | Win count: 43 | Win rate: 0.589 | time: 194.1 seconds\n",
      "Epoch: 074/999 | Loss: 0.0005 | Episodes: 17 | Win count: 44 | Win rate: 0.595 | time: 194.8 seconds\n",
      "Epoch: 075/999 | Loss: 0.0012 | Episodes: 34 | Win count: 45 | Win rate: 0.600 | time: 195.7 seconds\n",
      "Epoch: 076/999 | Loss: 0.0001 | Episodes: 17 | Win count: 46 | Win rate: 0.605 | time: 196.4 seconds\n",
      "Epoch: 077/999 | Loss: 0.0005 | Episodes: 9 | Win count: 47 | Win rate: 0.610 | time: 197.0 seconds\n",
      "Epoch: 078/999 | Loss: 0.0007 | Episodes: 14 | Win count: 48 | Win rate: 0.615 | time: 197.5 seconds\n",
      "Epoch: 079/999 | Loss: 0.0009 | Episodes: 26 | Win count: 49 | Win rate: 0.620 | time: 198.4 seconds\n",
      "Epoch: 080/999 | Loss: 0.0012 | Episodes: 26 | Win count: 50 | Win rate: 0.625 | time: 199.1 seconds\n",
      "Epoch: 081/999 | Loss: 0.0011 | Episodes: 7 | Win count: 51 | Win rate: 0.630 | time: 199.5 seconds\n",
      "Epoch: 082/999 | Loss: 0.0011 | Episodes: 1 | Win count: 52 | Win rate: 0.634 | time: 199.6 seconds\n",
      "Epoch: 083/999 | Loss: 0.0013 | Episodes: 17 | Win count: 53 | Win rate: 0.639 | time: 200.0 seconds\n",
      "Epoch: 084/999 | Loss: 0.0006 | Episodes: 27 | Win count: 54 | Win rate: 0.643 | time: 200.9 seconds\n",
      "Epoch: 085/999 | Loss: 0.0009 | Episodes: 25 | Win count: 55 | Win rate: 0.647 | time: 201.9 seconds\n",
      "Epoch: 086/999 | Loss: 0.0003 | Episodes: 30 | Win count: 56 | Win rate: 0.651 | time: 202.6 seconds\n",
      "Epoch: 087/999 | Loss: 0.0001 | Episodes: 19 | Win count: 57 | Win rate: 0.655 | time: 203.4 seconds\n",
      "Epoch: 088/999 | Loss: 0.0010 | Episodes: 30 | Win count: 58 | Win rate: 0.659 | time: 204.5 seconds\n",
      "Epoch: 089/999 | Loss: 0.0000 | Episodes: 33 | Win count: 59 | Win rate: 0.663 | time: 205.4 seconds\n",
      "Epoch: 090/999 | Loss: 0.0001 | Episodes: 24 | Win count: 60 | Win rate: 0.667 | time: 206.5 seconds\n",
      "Epoch: 091/999 | Loss: 0.0008 | Episodes: 92 | Win count: 61 | Win rate: 0.670 | time: 208.8 seconds\n",
      "Epoch: 092/999 | Loss: 0.0004 | Episodes: 11 | Win count: 62 | Win rate: 0.674 | time: 209.4 seconds\n",
      "Epoch: 093/999 | Loss: 0.0001 | Episodes: 15 | Win count: 63 | Win rate: 0.677 | time: 210.2 seconds\n",
      "Epoch: 094/999 | Loss: 0.0002 | Episodes: 15 | Win count: 64 | Win rate: 0.681 | time: 210.6 seconds\n",
      "Epoch: 095/999 | Loss: 0.0016 | Episodes: 27 | Win count: 65 | Win rate: 0.684 | time: 211.6 seconds\n",
      "Epoch: 096/999 | Loss: 0.0007 | Episodes: 34 | Win count: 66 | Win rate: 0.688 | time: 212.7 seconds\n",
      "Epoch: 097/999 | Loss: 0.0003 | Episodes: 30 | Win count: 67 | Win rate: 0.691 | time: 213.5 seconds\n",
      "Epoch: 098/999 | Loss: 0.0000 | Episodes: 26 | Win count: 68 | Win rate: 0.694 | time: 214.3 seconds\n",
      "Epoch: 099/999 | Loss: 0.0010 | Episodes: 15 | Win count: 69 | Win rate: 0.697 | time: 214.9 seconds\n",
      "Epoch: 100/999 | Loss: 0.0004 | Episodes: 8 | Win count: 70 | Win rate: 0.700 | time: 215.1 seconds\n",
      "Epoch: 101/999 | Loss: 0.0000 | Episodes: 7 | Win count: 71 | Win rate: 0.703 | time: 215.3 seconds\n",
      "Epoch: 102/999 | Loss: 0.0003 | Episodes: 18 | Win count: 72 | Win rate: 0.706 | time: 215.8 seconds\n",
      "Epoch: 103/999 | Loss: 0.0005 | Episodes: 51 | Win count: 73 | Win rate: 0.709 | time: 217.1 seconds\n",
      "Epoch: 104/999 | Loss: 0.0013 | Episodes: 41 | Win count: 74 | Win rate: 0.712 | time: 218.1 seconds\n",
      "Epoch: 105/999 | Loss: 0.0003 | Episodes: 16 | Win count: 75 | Win rate: 0.714 | time: 218.7 seconds\n",
      "Epoch: 106/999 | Loss: 0.0001 | Episodes: 29 | Win count: 76 | Win rate: 0.717 | time: 219.6 seconds\n",
      "Epoch: 107/999 | Loss: 0.0005 | Episodes: 24 | Win count: 77 | Win rate: 0.720 | time: 220.2 seconds\n",
      "Epoch: 108/999 | Loss: 0.0001 | Episodes: 21 | Win count: 78 | Win rate: 0.722 | time: 220.8 seconds\n",
      "Epoch: 109/999 | Loss: 0.0000 | Episodes: 17 | Win count: 79 | Win rate: 0.725 | time: 221.2 seconds\n",
      "Epoch: 110/999 | Loss: 0.0001 | Episodes: 17 | Win count: 80 | Win rate: 0.727 | time: 221.8 seconds\n",
      "Epoch: 111/999 | Loss: 0.0009 | Episodes: 18 | Win count: 81 | Win rate: 0.730 | time: 222.3 seconds\n",
      "Epoch: 112/999 | Loss: 0.0002 | Episodes: 26 | Win count: 82 | Win rate: 0.732 | time: 222.9 seconds\n",
      "Epoch: 113/999 | Loss: 0.0005 | Episodes: 26 | Win count: 83 | Win rate: 0.735 | time: 223.6 seconds\n",
      "Epoch: 114/999 | Loss: 0.0002 | Episodes: 10 | Win count: 84 | Win rate: 0.737 | time: 223.9 seconds\n",
      "Epoch: 115/999 | Loss: 0.0002 | Episodes: 27 | Win count: 85 | Win rate: 0.739 | time: 224.7 seconds\n",
      "Epoch: 116/999 | Loss: 0.0004 | Episodes: 26 | Win count: 86 | Win rate: 0.741 | time: 225.4 seconds\n",
      "Epoch: 117/999 | Loss: 0.0001 | Episodes: 20 | Win count: 87 | Win rate: 0.744 | time: 226.0 seconds\n",
      "Epoch: 118/999 | Loss: 0.0000 | Episodes: 13 | Win count: 88 | Win rate: 0.746 | time: 226.3 seconds\n",
      "Epoch: 119/999 | Loss: 0.0001 | Episodes: 7 | Win count: 89 | Win rate: 0.748 | time: 226.6 seconds\n",
      "Epoch: 120/999 | Loss: 0.0001 | Episodes: 33 | Win count: 90 | Win rate: 0.750 | time: 227.4 seconds\n",
      "Epoch: 121/999 | Loss: 0.0001 | Episodes: 20 | Win count: 91 | Win rate: 0.752 | time: 227.9 seconds\n",
      "Epoch: 122/999 | Loss: 0.0001 | Episodes: 9 | Win count: 92 | Win rate: 0.754 | time: 228.2 seconds\n",
      "Epoch: 123/999 | Loss: 0.0009 | Episodes: 17 | Win count: 93 | Win rate: 0.756 | time: 228.6 seconds\n",
      "Epoch: 124/999 | Loss: 0.0001 | Episodes: 21 | Win count: 94 | Win rate: 0.758 | time: 229.2 seconds\n",
      "Epoch: 125/999 | Loss: 0.0001 | Episodes: 18 | Win count: 95 | Win rate: 0.760 | time: 229.6 seconds\n",
      "Epoch: 126/999 | Loss: 0.0004 | Episodes: 19 | Win count: 96 | Win rate: 0.762 | time: 230.1 seconds\n",
      "Epoch: 127/999 | Loss: 0.0001 | Episodes: 7 | Win count: 97 | Win rate: 0.764 | time: 230.4 seconds\n",
      "Epoch: 128/999 | Loss: 0.0000 | Episodes: 7 | Win count: 98 | Win rate: 0.766 | time: 230.6 seconds\n",
      "Epoch: 129/999 | Loss: 0.0001 | Episodes: 22 | Win count: 99 | Win rate: 0.767 | time: 231.2 seconds\n",
      "Epoch: 130/999 | Loss: 0.0006 | Episodes: 62 | Win count: 100 | Win rate: 0.769 | time: 232.8 seconds\n",
      "Epoch: 131/999 | Loss: 0.0000 | Episodes: 48 | Win count: 101 | Win rate: 0.771 | time: 234.0 seconds\n",
      "Epoch: 132/999 | Loss: 0.0002 | Episodes: 26 | Win count: 102 | Win rate: 0.773 | time: 234.6 seconds\n",
      "Epoch: 133/999 | Loss: 0.0011 | Episodes: 7 | Win count: 103 | Win rate: 0.774 | time: 234.8 seconds\n",
      "Epoch: 134/999 | Loss: 0.0008 | Episodes: 23 | Win count: 104 | Win rate: 0.776 | time: 235.4 seconds\n",
      "Epoch: 135/999 | Loss: 0.0000 | Episodes: 4 | Win count: 105 | Win rate: 0.778 | time: 235.5 seconds\n",
      "Epoch: 136/999 | Loss: 0.0004 | Episodes: 11 | Win count: 106 | Win rate: 0.779 | time: 235.9 seconds\n",
      "Epoch: 137/999 | Loss: 0.0009 | Episodes: 27 | Win count: 107 | Win rate: 0.781 | time: 236.5 seconds\n",
      "Epoch: 138/999 | Loss: 0.0001 | Episodes: 17 | Win count: 108 | Win rate: 0.783 | time: 237.0 seconds\n",
      "Epoch: 139/999 | Loss: 0.0001 | Episodes: 16 | Win count: 109 | Win rate: 0.784 | time: 237.4 seconds\n",
      "Epoch: 140/999 | Loss: 0.0002 | Episodes: 15 | Win count: 110 | Win rate: 0.786 | time: 237.8 seconds\n",
      "Epoch: 141/999 | Loss: 0.0004 | Episodes: 25 | Win count: 111 | Win rate: 0.787 | time: 238.4 seconds\n",
      "Epoch: 142/999 | Loss: 0.0000 | Episodes: 18 | Win count: 112 | Win rate: 0.789 | time: 238.9 seconds\n",
      "Epoch: 143/999 | Loss: 0.0003 | Episodes: 28 | Win count: 113 | Win rate: 0.790 | time: 239.6 seconds\n",
      "Epoch: 144/999 | Loss: 0.0001 | Episodes: 31 | Win count: 114 | Win rate: 0.792 | time: 240.4 seconds\n",
      "Epoch: 145/999 | Loss: 0.0008 | Episodes: 21 | Win count: 115 | Win rate: 0.793 | time: 240.9 seconds\n",
      "Epoch: 146/999 | Loss: 0.0002 | Episodes: 24 | Win count: 116 | Win rate: 0.795 | time: 241.5 seconds\n",
      "Epoch: 147/999 | Loss: 0.0002 | Episodes: 23 | Win count: 117 | Win rate: 0.796 | time: 242.2 seconds\n",
      "Epoch: 148/999 | Loss: 0.0000 | Episodes: 30 | Win count: 118 | Win rate: 0.797 | time: 243.0 seconds\n",
      "Epoch: 149/999 | Loss: 0.0001 | Episodes: 35 | Win count: 119 | Win rate: 0.799 | time: 243.9 seconds\n",
      "Epoch: 150/999 | Loss: 0.0008 | Episodes: 13 | Win count: 120 | Win rate: 0.800 | time: 244.2 seconds\n",
      "Epoch: 151/999 | Loss: 0.0002 | Episodes: 10 | Win count: 121 | Win rate: 0.801 | time: 244.5 seconds\n",
      "Epoch: 152/999 | Loss: 0.0001 | Episodes: 19 | Win count: 122 | Win rate: 0.803 | time: 245.0 seconds\n",
      "Epoch: 153/999 | Loss: 0.0003 | Episodes: 27 | Win count: 123 | Win rate: 0.804 | time: 245.7 seconds\n",
      "Epoch: 154/999 | Loss: 0.0000 | Episodes: 7 | Win count: 124 | Win rate: 0.805 | time: 245.9 seconds\n",
      "Epoch: 155/999 | Loss: 0.0003 | Episodes: 8 | Win count: 125 | Win rate: 0.806 | time: 246.2 seconds\n",
      "Epoch: 156/999 | Loss: 0.0006 | Episodes: 42 | Win count: 126 | Win rate: 0.808 | time: 247.5 seconds\n",
      "Epoch: 157/999 | Loss: 0.0001 | Episodes: 5 | Win count: 127 | Win rate: 0.809 | time: 247.7 seconds\n",
      "Epoch: 158/999 | Loss: 0.0002 | Episodes: 36 | Win count: 128 | Win rate: 0.810 | time: 248.6 seconds\n",
      "Epoch: 159/999 | Loss: 0.0011 | Episodes: 27 | Win count: 129 | Win rate: 0.811 | time: 249.3 seconds\n",
      "Epoch: 160/999 | Loss: 0.0013 | Episodes: 3 | Win count: 130 | Win rate: 0.812 | time: 249.4 seconds\n",
      "Epoch: 161/999 | Loss: 0.0001 | Episodes: 46 | Win count: 131 | Win rate: 0.814 | time: 250.5 seconds\n",
      "Epoch: 162/999 | Loss: 0.0001 | Episodes: 1 | Win count: 132 | Win rate: 0.815 | time: 250.6 seconds\n",
      "Epoch: 163/999 | Loss: 0.0008 | Episodes: 11 | Win count: 133 | Win rate: 0.816 | time: 250.9 seconds\n",
      "Epoch: 164/999 | Loss: 0.0004 | Episodes: 7 | Win count: 134 | Win rate: 0.817 | time: 251.1 seconds\n",
      "Epoch: 165/999 | Loss: 0.0011 | Episodes: 30 | Win count: 135 | Win rate: 0.818 | time: 251.8 seconds\n",
      "Epoch: 166/999 | Loss: 0.0001 | Episodes: 7 | Win count: 136 | Win rate: 0.819 | time: 252.0 seconds\n",
      "Epoch: 167/999 | Loss: 0.0002 | Episodes: 25 | Win count: 137 | Win rate: 0.820 | time: 252.6 seconds\n",
      "Epoch: 168/999 | Loss: 0.0012 | Episodes: 33 | Win count: 138 | Win rate: 0.821 | time: 253.4 seconds\n",
      "Epoch: 169/999 | Loss: 0.0015 | Episodes: 68 | Win count: 139 | Win rate: 0.822 | time: 255.0 seconds\n",
      "Epoch: 170/999 | Loss: 0.0003 | Episodes: 129 | Win count: 139 | Win rate: 0.818 | time: 258.1 seconds\n",
      "Epoch: 171/999 | Loss: 0.0010 | Episodes: 21 | Win count: 140 | Win rate: 0.819 | time: 258.7 seconds\n",
      "Epoch: 172/999 | Loss: 0.0007 | Episodes: 25 | Win count: 141 | Win rate: 0.820 | time: 259.3 seconds\n",
      "Epoch: 173/999 | Loss: 0.0012 | Episodes: 6 | Win count: 142 | Win rate: 0.821 | time: 259.5 seconds\n",
      "Epoch: 174/999 | Loss: 0.0003 | Episodes: 33 | Win count: 143 | Win rate: 0.822 | time: 260.3 seconds\n",
      "Epoch: 175/999 | Loss: 0.0002 | Episodes: 15 | Win count: 144 | Win rate: 0.823 | time: 260.6 seconds\n",
      "Epoch: 176/999 | Loss: 0.0001 | Episodes: 30 | Win count: 145 | Win rate: 0.824 | time: 261.4 seconds\n",
      "Epoch: 177/999 | Loss: 0.0004 | Episodes: 9 | Win count: 146 | Win rate: 0.825 | time: 261.6 seconds\n",
      "Epoch: 178/999 | Loss: 0.0002 | Episodes: 13 | Win count: 147 | Win rate: 0.826 | time: 262.0 seconds\n",
      "Epoch: 179/999 | Loss: 0.0008 | Episodes: 10 | Win count: 148 | Win rate: 0.827 | time: 262.3 seconds\n",
      "Epoch: 180/999 | Loss: 0.0004 | Episodes: 24 | Win count: 149 | Win rate: 0.828 | time: 262.9 seconds\n",
      "Epoch: 181/999 | Loss: 0.0007 | Episodes: 26 | Win count: 150 | Win rate: 0.829 | time: 263.5 seconds\n",
      "Epoch: 182/999 | Loss: 0.0003 | Episodes: 14 | Win count: 151 | Win rate: 0.830 | time: 263.9 seconds\n",
      "Epoch: 183/999 | Loss: 0.0002 | Episodes: 3 | Win count: 152 | Win rate: 0.831 | time: 264.0 seconds\n",
      "Epoch: 184/999 | Loss: 0.0013 | Episodes: 8 | Win count: 153 | Win rate: 0.832 | time: 264.2 seconds\n",
      "Epoch: 185/999 | Loss: 0.0001 | Episodes: 22 | Win count: 154 | Win rate: 0.832 | time: 264.8 seconds\n",
      "Epoch: 186/999 | Loss: 0.0019 | Episodes: 10 | Win count: 155 | Win rate: 0.833 | time: 265.1 seconds\n",
      "Epoch: 187/999 | Loss: 0.0016 | Episodes: 2 | Win count: 156 | Win rate: 0.834 | time: 265.2 seconds\n",
      "Epoch: 188/999 | Loss: 0.0004 | Episodes: 14 | Win count: 157 | Win rate: 0.835 | time: 265.5 seconds\n",
      "Epoch: 189/999 | Loss: 0.0001 | Episodes: 21 | Win count: 158 | Win rate: 0.836 | time: 266.1 seconds\n",
      "n_epoch: 189, max_mem: 512, data: 50, time: 266.5 seconds\n"
     ]
    },
    {
     "data": {
      "text/plain": [
       "266.533099"
      ]
     },
     "execution_count": 11,
     "metadata": {},
     "output_type": "execute_result"
    }
   ],
   "source": [
    "model = build_model(maze)\n",
    "qtrain(model, maze, n_epoch=1000, max_memory=8*maze.size, data_size=50)"
   ]
  },
  {
   "cell_type": "markdown",
   "metadata": {},
   "source": [
    "This cell will check to see if the model passes the completion check. Note: This could take several minutes."
   ]
  },
  {
   "cell_type": "code",
   "execution_count": 12,
   "metadata": {},
   "outputs": [
    {
     "data": {
      "text/plain": [
       "<matplotlib.image.AxesImage at 0x22bbf41b488>"
      ]
     },
     "execution_count": 12,
     "metadata": {},
     "output_type": "execute_result"
    },
    {
     "data": {
      "image/png": "[encoded data removed]",
      "text/plain": [
       "<Figure size 432x288 with 1 Axes>"
      ]
     },
     "metadata": {
      "needs_background": "light"
     },
     "output_type": "display_data"
    }
   ],
   "source": [
    "completion_check(model, qmaze)\n",
    "show(qmaze)"
   ]
  },
  {
   "cell_type": "markdown",
   "metadata": {},
   "source": [
    "This cell will test your model for one game. It will start the pirate at the top-left corner and run play_game. The agent should find a path from the starting position to the target (treasure). The treasure is located in the bottom-right corner."
   ]
  },
  {
   "cell_type": "code",
   "execution_count": 13,
   "metadata": {},
   "outputs": [
    {
     "data": {
      "text/plain": [
       "<matplotlib.image.AxesImage at 0x22bbf467408>"
      ]
     },
     "execution_count": 13,
     "metadata": {},
     "output_type": "execute_result"
    },
    {
     "data": {
      "image/png": "[encoded data removed]",
      "text/plain": [
       "<Figure size 432x288 with 1 Axes>"
      ]
     },
     "metadata": {
      "needs_background": "light"
     },
     "output_type": "display_data"
    }
   ],
   "source": [
    "pirate_start = (0, 0)\n",
    "play_game(model, qmaze, pirate_start)\n",
    "show(qmaze)"
   ]
  },
  {
   "cell_type": "markdown",
   "metadata": {},
   "source": [
    "## Save and Submit Your Work\n",
    "After you have finished creating the code for your notebook, save your work. Make sure that your notebook contains your name in the filename (e.g. Doe_Jane_ProjectTwo.ipynb). This will help your instructor access and grade your work easily. Download a copy of your IPYNB file and submit it to Brightspace. Refer to the Jupyter Notebook in Apporto Tutorial if you need help with these tasks."
   ]
  }
 ],
 "metadata": {
  "kernelspec": {
   "display_name": "Python 3",
   "language": "python",
   "name": "python3"
  },
  "language_info": {
   "codemirror_mode": {
    "name": "ipython",
    "version": 3
   },
   "file_extension": ".py",
   "mimetype": "text/x-python",
   "name": "python",
   "nbconvert_exporter": "python",
   "pygments_lexer": "ipython3",
   "version": "3.7.4"
  }
 },
 "nbformat": 4,
 "nbformat_minor": 2
}
